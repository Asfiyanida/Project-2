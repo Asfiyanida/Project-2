{
 "cells": [
  {
   "cell_type": "markdown",
   "id": "3c1fe1a1",
   "metadata": {},
   "source": [
    "## Importing the necessary libraries"
   ]
  },
  {
   "cell_type": "code",
   "execution_count": 1,
   "id": "b34e6b44",
   "metadata": {},
   "outputs": [],
   "source": [
    "import warnings\n",
    "warnings.filterwarnings('ignore') # Library to suppress warnings\n",
    "\n",
    "import numpy as np\n",
    "import pandas as pd\n",
    "\n",
    "import matplotlib.pyplot as plt\n",
    "import seaborn as sns\n",
    "%matplotlib inline\n",
    "\n",
    "import scipy.stats as stats"
   ]
  },
  {
   "cell_type": "markdown",
   "id": "bca0f30d",
   "metadata": {},
   "source": [
    "## Reading the data into the dataframe"
   ]
  },
  {
   "cell_type": "code",
   "execution_count": 34,
   "id": "906dc053",
   "metadata": {},
   "outputs": [
    {
     "data": {
      "text/html": [
       "<div>\n",
       "<style scoped>\n",
       "    .dataframe tbody tr th:only-of-type {\n",
       "        vertical-align: middle;\n",
       "    }\n",
       "\n",
       "    .dataframe tbody tr th {\n",
       "        vertical-align: top;\n",
       "    }\n",
       "\n",
       "    .dataframe thead th {\n",
       "        text-align: right;\n",
       "    }\n",
       "</style>\n",
       "<table border=\"1\" class=\"dataframe\">\n",
       "  <thead>\n",
       "    <tr style=\"text-align: right;\">\n",
       "      <th></th>\n",
       "      <th>user_id</th>\n",
       "      <th>group</th>\n",
       "      <th>landing_page</th>\n",
       "      <th>time_spent_on_the_page</th>\n",
       "      <th>converted</th>\n",
       "      <th>language_preferred</th>\n",
       "    </tr>\n",
       "  </thead>\n",
       "  <tbody>\n",
       "    <tr>\n",
       "      <th>0</th>\n",
       "      <td>546592</td>\n",
       "      <td>control</td>\n",
       "      <td>old</td>\n",
       "      <td>3.48</td>\n",
       "      <td>no</td>\n",
       "      <td>Spanish</td>\n",
       "    </tr>\n",
       "    <tr>\n",
       "      <th>1</th>\n",
       "      <td>546468</td>\n",
       "      <td>treatment</td>\n",
       "      <td>new</td>\n",
       "      <td>7.13</td>\n",
       "      <td>yes</td>\n",
       "      <td>English</td>\n",
       "    </tr>\n",
       "    <tr>\n",
       "      <th>2</th>\n",
       "      <td>546462</td>\n",
       "      <td>treatment</td>\n",
       "      <td>new</td>\n",
       "      <td>4.40</td>\n",
       "      <td>no</td>\n",
       "      <td>Spanish</td>\n",
       "    </tr>\n",
       "    <tr>\n",
       "      <th>3</th>\n",
       "      <td>546567</td>\n",
       "      <td>control</td>\n",
       "      <td>old</td>\n",
       "      <td>3.02</td>\n",
       "      <td>no</td>\n",
       "      <td>French</td>\n",
       "    </tr>\n",
       "    <tr>\n",
       "      <th>4</th>\n",
       "      <td>546459</td>\n",
       "      <td>treatment</td>\n",
       "      <td>new</td>\n",
       "      <td>4.75</td>\n",
       "      <td>yes</td>\n",
       "      <td>Spanish</td>\n",
       "    </tr>\n",
       "  </tbody>\n",
       "</table>\n",
       "</div>"
      ],
      "text/plain": [
       "   user_id      group landing_page  time_spent_on_the_page converted  \\\n",
       "0   546592    control          old                    3.48        no   \n",
       "1   546468  treatment          new                    7.13       yes   \n",
       "2   546462  treatment          new                    4.40        no   \n",
       "3   546567    control          old                    3.02        no   \n",
       "4   546459  treatment          new                    4.75       yes   \n",
       "\n",
       "  language_preferred  \n",
       "0            Spanish  \n",
       "1            English  \n",
       "2            Spanish  \n",
       "3             French  \n",
       "4            Spanish  "
      ]
     },
     "execution_count": 34,
     "metadata": {},
     "output_type": "execute_result"
    }
   ],
   "source": [
    "df=pd.read_csv('abtest.csv') \n",
    "df.head()"
   ]
  },
  {
   "cell_type": "code",
   "execution_count": 35,
   "id": "a3880cb6",
   "metadata": {},
   "outputs": [
    {
     "data": {
      "text/plain": [
       "(100, 6)"
      ]
     },
     "execution_count": 35,
     "metadata": {},
     "output_type": "execute_result"
    }
   ],
   "source": [
    "df.shape"
   ]
  },
  {
   "cell_type": "markdown",
   "id": "0242e32c",
   "metadata": {},
   "source": [
    "- The dataset has 100 rows and 6 columns"
   ]
  },
  {
   "cell_type": "code",
   "execution_count": 4,
   "id": "ea2a3c0b",
   "metadata": {},
   "outputs": [
    {
     "name": "stdout",
     "output_type": "stream",
     "text": [
      "<class 'pandas.core.frame.DataFrame'>\n",
      "RangeIndex: 100 entries, 0 to 99\n",
      "Data columns (total 6 columns):\n",
      " #   Column                  Non-Null Count  Dtype  \n",
      "---  ------                  --------------  -----  \n",
      " 0   user_id                 100 non-null    int64  \n",
      " 1   group                   100 non-null    object \n",
      " 2   landing_page            100 non-null    object \n",
      " 3   time_spent_on_the_page  100 non-null    float64\n",
      " 4   converted               100 non-null    object \n",
      " 5   language_preferred      100 non-null    object \n",
      "dtypes: float64(1), int64(1), object(4)\n",
      "memory usage: 4.8+ KB\n"
     ]
    }
   ],
   "source": [
    "df.info()"
   ]
  },
  {
   "cell_type": "markdown",
   "id": "5e3495b5",
   "metadata": {},
   "source": [
    "* There is 1 (float64) , 1 (int64) and 4 (object) datatypes.\n",
    "* Group,landing_page,converted and language_preferred columns are categorical. \n",
    "* user_id and time_spent_on_the_page are numerical"
   ]
  },
  {
   "cell_type": "code",
   "execution_count": 5,
   "id": "e401ad01",
   "metadata": {},
   "outputs": [
    {
     "data": {
      "text/plain": [
       "100"
      ]
     },
     "execution_count": 5,
     "metadata": {},
     "output_type": "execute_result"
    }
   ],
   "source": [
    "df['user_id'].nunique() #checking if all the users are unique"
   ]
  },
  {
   "cell_type": "code",
   "execution_count": 6,
   "id": "d42fa41f",
   "metadata": {},
   "outputs": [
    {
     "data": {
      "text/plain": [
       "control      50\n",
       "treatment    50\n",
       "Name: group, dtype: int64"
      ]
     },
     "execution_count": 6,
     "metadata": {},
     "output_type": "execute_result"
    }
   ],
   "source": [
    "df.group.value_counts()"
   ]
  },
  {
   "cell_type": "markdown",
   "id": "c376478c",
   "metadata": {},
   "source": [
    "* There are two groups- control and treatment"
   ]
  },
  {
   "cell_type": "code",
   "execution_count": 7,
   "id": "4cae725b",
   "metadata": {},
   "outputs": [
    {
     "data": {
      "text/plain": [
       "old    50\n",
       "new    50\n",
       "Name: landing_page, dtype: int64"
      ]
     },
     "execution_count": 7,
     "metadata": {},
     "output_type": "execute_result"
    }
   ],
   "source": [
    "df.landing_page.value_counts()"
   ]
  },
  {
   "cell_type": "markdown",
   "id": "4e2c275e",
   "metadata": {},
   "source": [
    "* There are two landing pages- old and new"
   ]
  },
  {
   "cell_type": "code",
   "execution_count": 8,
   "id": "5dcb4f30",
   "metadata": {},
   "outputs": [
    {
     "data": {
      "text/plain": [
       "yes    54\n",
       "no     46\n",
       "Name: converted, dtype: int64"
      ]
     },
     "execution_count": 8,
     "metadata": {},
     "output_type": "execute_result"
    }
   ],
   "source": [
    "df.converted.value_counts()"
   ]
  },
  {
   "cell_type": "markdown",
   "id": "2c6e4b3f",
   "metadata": {},
   "source": [
    "* The converted column has 2 values yes and no"
   ]
  },
  {
   "cell_type": "code",
   "execution_count": 9,
   "id": "c8f097df",
   "metadata": {},
   "outputs": [
    {
     "data": {
      "text/plain": [
       "Spanish    34\n",
       "French     34\n",
       "English    32\n",
       "Name: language_preferred, dtype: int64"
      ]
     },
     "execution_count": 9,
     "metadata": {},
     "output_type": "execute_result"
    }
   ],
   "source": [
    "df.language_preferred.value_counts()"
   ]
  },
  {
   "cell_type": "markdown",
   "id": "007d61f4",
   "metadata": {},
   "source": [
    "* There are 3 languages preferred- Spanish,French and English"
   ]
  },
  {
   "cell_type": "code",
   "execution_count": 10,
   "id": "e260f2b6",
   "metadata": {},
   "outputs": [
    {
     "data": {
      "text/html": [
       "<div>\n",
       "<style scoped>\n",
       "    .dataframe tbody tr th:only-of-type {\n",
       "        vertical-align: middle;\n",
       "    }\n",
       "\n",
       "    .dataframe tbody tr th {\n",
       "        vertical-align: top;\n",
       "    }\n",
       "\n",
       "    .dataframe thead th {\n",
       "        text-align: right;\n",
       "    }\n",
       "</style>\n",
       "<table border=\"1\" class=\"dataframe\">\n",
       "  <thead>\n",
       "    <tr style=\"text-align: right;\">\n",
       "      <th></th>\n",
       "      <th>user_id</th>\n",
       "      <th>group</th>\n",
       "      <th>landing_page</th>\n",
       "      <th>time_spent_on_the_page</th>\n",
       "      <th>converted</th>\n",
       "      <th>language_preferred</th>\n",
       "    </tr>\n",
       "  </thead>\n",
       "  <tbody>\n",
       "    <tr>\n",
       "      <th>count</th>\n",
       "      <td>100.000000</td>\n",
       "      <td>100</td>\n",
       "      <td>100</td>\n",
       "      <td>100.000000</td>\n",
       "      <td>100</td>\n",
       "      <td>100</td>\n",
       "    </tr>\n",
       "    <tr>\n",
       "      <th>unique</th>\n",
       "      <td>NaN</td>\n",
       "      <td>2</td>\n",
       "      <td>2</td>\n",
       "      <td>NaN</td>\n",
       "      <td>2</td>\n",
       "      <td>3</td>\n",
       "    </tr>\n",
       "    <tr>\n",
       "      <th>top</th>\n",
       "      <td>NaN</td>\n",
       "      <td>control</td>\n",
       "      <td>old</td>\n",
       "      <td>NaN</td>\n",
       "      <td>yes</td>\n",
       "      <td>Spanish</td>\n",
       "    </tr>\n",
       "    <tr>\n",
       "      <th>freq</th>\n",
       "      <td>NaN</td>\n",
       "      <td>50</td>\n",
       "      <td>50</td>\n",
       "      <td>NaN</td>\n",
       "      <td>54</td>\n",
       "      <td>34</td>\n",
       "    </tr>\n",
       "    <tr>\n",
       "      <th>mean</th>\n",
       "      <td>546517.000000</td>\n",
       "      <td>NaN</td>\n",
       "      <td>NaN</td>\n",
       "      <td>5.377800</td>\n",
       "      <td>NaN</td>\n",
       "      <td>NaN</td>\n",
       "    </tr>\n",
       "    <tr>\n",
       "      <th>std</th>\n",
       "      <td>52.295779</td>\n",
       "      <td>NaN</td>\n",
       "      <td>NaN</td>\n",
       "      <td>2.378166</td>\n",
       "      <td>NaN</td>\n",
       "      <td>NaN</td>\n",
       "    </tr>\n",
       "    <tr>\n",
       "      <th>min</th>\n",
       "      <td>546443.000000</td>\n",
       "      <td>NaN</td>\n",
       "      <td>NaN</td>\n",
       "      <td>0.190000</td>\n",
       "      <td>NaN</td>\n",
       "      <td>NaN</td>\n",
       "    </tr>\n",
       "    <tr>\n",
       "      <th>25%</th>\n",
       "      <td>546467.750000</td>\n",
       "      <td>NaN</td>\n",
       "      <td>NaN</td>\n",
       "      <td>3.880000</td>\n",
       "      <td>NaN</td>\n",
       "      <td>NaN</td>\n",
       "    </tr>\n",
       "    <tr>\n",
       "      <th>50%</th>\n",
       "      <td>546492.500000</td>\n",
       "      <td>NaN</td>\n",
       "      <td>NaN</td>\n",
       "      <td>5.415000</td>\n",
       "      <td>NaN</td>\n",
       "      <td>NaN</td>\n",
       "    </tr>\n",
       "    <tr>\n",
       "      <th>75%</th>\n",
       "      <td>546567.250000</td>\n",
       "      <td>NaN</td>\n",
       "      <td>NaN</td>\n",
       "      <td>7.022500</td>\n",
       "      <td>NaN</td>\n",
       "      <td>NaN</td>\n",
       "    </tr>\n",
       "    <tr>\n",
       "      <th>max</th>\n",
       "      <td>546592.000000</td>\n",
       "      <td>NaN</td>\n",
       "      <td>NaN</td>\n",
       "      <td>10.710000</td>\n",
       "      <td>NaN</td>\n",
       "      <td>NaN</td>\n",
       "    </tr>\n",
       "  </tbody>\n",
       "</table>\n",
       "</div>"
      ],
      "text/plain": [
       "              user_id    group landing_page  time_spent_on_the_page converted  \\\n",
       "count      100.000000      100          100              100.000000       100   \n",
       "unique            NaN        2            2                     NaN         2   \n",
       "top               NaN  control          old                     NaN       yes   \n",
       "freq              NaN       50           50                     NaN        54   \n",
       "mean    546517.000000      NaN          NaN                5.377800       NaN   \n",
       "std         52.295779      NaN          NaN                2.378166       NaN   \n",
       "min     546443.000000      NaN          NaN                0.190000       NaN   \n",
       "25%     546467.750000      NaN          NaN                3.880000       NaN   \n",
       "50%     546492.500000      NaN          NaN                5.415000       NaN   \n",
       "75%     546567.250000      NaN          NaN                7.022500       NaN   \n",
       "max     546592.000000      NaN          NaN               10.710000       NaN   \n",
       "\n",
       "       language_preferred  \n",
       "count                 100  \n",
       "unique                  3  \n",
       "top               Spanish  \n",
       "freq                   34  \n",
       "mean                  NaN  \n",
       "std                   NaN  \n",
       "min                   NaN  \n",
       "25%                   NaN  \n",
       "50%                   NaN  \n",
       "75%                   NaN  \n",
       "max                   NaN  "
      ]
     },
     "execution_count": 10,
     "metadata": {},
     "output_type": "execute_result"
    }
   ],
   "source": [
    "df.describe(include='all')"
   ]
  },
  {
   "cell_type": "markdown",
   "id": "e78ffe4f",
   "metadata": {},
   "source": [
    "* The mean time spent on the page is 5.37 minutes\n",
    "* Minimum time spent on the page is from 0.19 seconds to maximum of 10.71 minutes"
   ]
  },
  {
   "cell_type": "markdown",
   "id": "586dffbf",
   "metadata": {},
   "source": [
    "## Checking missing values"
   ]
  },
  {
   "cell_type": "code",
   "execution_count": 11,
   "id": "62339017",
   "metadata": {},
   "outputs": [
    {
     "data": {
      "text/plain": [
       "user_id                   0\n",
       "group                     0\n",
       "landing_page              0\n",
       "time_spent_on_the_page    0\n",
       "converted                 0\n",
       "language_preferred        0\n",
       "dtype: int64"
      ]
     },
     "execution_count": 11,
     "metadata": {},
     "output_type": "execute_result"
    }
   ],
   "source": [
    "df.isnull().sum() "
   ]
  },
  {
   "cell_type": "markdown",
   "id": "3741489a",
   "metadata": {},
   "source": [
    "* There are no missing values in the dataset"
   ]
  },
  {
   "cell_type": "markdown",
   "id": "88fc578b",
   "metadata": {},
   "source": [
    "## Univariate analysis"
   ]
  },
  {
   "cell_type": "code",
   "execution_count": 12,
   "id": "3fc0b6e5",
   "metadata": {},
   "outputs": [
    {
     "data": {
      "image/png": "[encoded data removed]",
      "text/plain": [
       "<Figure size 360x360 with 1 Axes>"
      ]
     },
     "metadata": {
      "needs_background": "light"
     },
     "output_type": "display_data"
    }
   ],
   "source": [
    "sns.catplot(x = 'group', data = df, kind = 'count');"
   ]
  },
  {
   "cell_type": "markdown",
   "id": "be82d77d",
   "metadata": {},
   "source": [
    "* There are equal users in both control and user group"
   ]
  },
  {
   "cell_type": "code",
   "execution_count": 13,
   "id": "2bed6878",
   "metadata": {},
   "outputs": [
    {
     "data": {
      "image/png": "[encoded data removed]",
      "text/plain": [
       "<Figure size 360x360 with 1 Axes>"
      ]
     },
     "metadata": {
      "needs_background": "light"
     },
     "output_type": "display_data"
    }
   ],
   "source": [
    "sns.catplot(x = 'landing_page', data = df, kind = 'count');"
   ]
  },
  {
   "cell_type": "markdown",
   "id": "40f5fdbb",
   "metadata": {},
   "source": [
    "* There are equal users in old landing page and in new landing page"
   ]
  },
  {
   "cell_type": "code",
   "execution_count": 14,
   "id": "8b6fb250",
   "metadata": {},
   "outputs": [
    {
     "data": {
      "image/png": "[encoded data removed]",
      "text/plain": [
       "<Figure size 360x360 with 1 Axes>"
      ]
     },
     "metadata": {
      "needs_background": "light"
     },
     "output_type": "display_data"
    }
   ],
   "source": [
    "sns.catplot(x = 'converted', data = df, kind = 'count');"
   ]
  },
  {
   "cell_type": "markdown",
   "id": "0e30bd27",
   "metadata": {},
   "source": [
    "* The users who have converted to new landing page is more than the old."
   ]
  },
  {
   "cell_type": "code",
   "execution_count": 15,
   "id": "593385ff",
   "metadata": {},
   "outputs": [
    {
     "data": {
      "image/png": "[encoded data removed]",
      "text/plain": [
       "<Figure size 360x360 with 1 Axes>"
      ]
     },
     "metadata": {
      "needs_background": "light"
     },
     "output_type": "display_data"
    }
   ],
   "source": [
    "sns.catplot(x = 'language_preferred', data = df, kind = 'count');"
   ]
  },
  {
   "cell_type": "markdown",
   "id": "5509c048",
   "metadata": {},
   "source": [
    "* Users who prefer English language is low when compared to Spanish and French users.  "
   ]
  },
  {
   "cell_type": "markdown",
   "id": "4adea47a",
   "metadata": {},
   "source": [
    "## Bivariate analysis"
   ]
  },
  {
   "cell_type": "code",
   "execution_count": 16,
   "id": "43f325e2",
   "metadata": {},
   "outputs": [
    {
     "data": {
      "image/png": "[encoded data removed]",
      "text/plain": [
       "<Figure size 432x288 with 1 Axes>"
      ]
     },
     "metadata": {
      "needs_background": "light"
     },
     "output_type": "display_data"
    }
   ],
   "source": [
    "sns.boxplot(df['group'], df['time_spent_on_the_page']);"
   ]
  },
  {
   "cell_type": "markdown",
   "id": "50641ad6",
   "metadata": {},
   "source": [
    "* Users take more time in the old landing page which is with the control group than the treatment group serving new landing page\n",
    "* Outliers are present for the time spent on page by the treatment group"
   ]
  },
  {
   "cell_type": "code",
   "execution_count": 17,
   "id": "9e3d97a5",
   "metadata": {},
   "outputs": [
    {
     "data": {
      "image/png": "[encoded data removed]",
      "text/plain": [
       "<Figure size 432x288 with 1 Axes>"
      ]
     },
     "metadata": {
      "needs_background": "light"
     },
     "output_type": "display_data"
    }
   ],
   "source": [
    "sns.boxplot(df['language_preferred'], df['time_spent_on_the_page']);"
   ]
  },
  {
   "cell_type": "markdown",
   "id": "ba57646a",
   "metadata": {},
   "source": [
    "* The French language preferred by some of the users take more time on the page\n",
    "* Outliers are present for Spanish "
   ]
  },
  {
   "cell_type": "code",
   "execution_count": 18,
   "id": "3c329f13",
   "metadata": {},
   "outputs": [
    {
     "data": {
      "image/png": "[encoded data removed]",
      "text/plain": [
       "<Figure size 432x288 with 1 Axes>"
      ]
     },
     "metadata": {
      "needs_background": "light"
     },
     "output_type": "display_data"
    }
   ],
   "source": [
    "sns.boxplot(df['converted'], df['time_spent_on_the_page']);"
   ]
  },
  {
   "cell_type": "markdown",
   "id": "d9706209",
   "metadata": {},
   "source": [
    "* Users who got converted to new landing page spend less time than the users who did not get converted to new landing page (using old landing page)."
   ]
  },
  {
   "cell_type": "markdown",
   "id": "095dbaaa",
   "metadata": {},
   "source": [
    "## Do the users spend more time on the new landing page than the old landing page?"
   ]
  },
  {
   "cell_type": "markdown",
   "id": "18b34bb7",
   "metadata": {},
   "source": [
    "## Step 1: Defining null and alternative hypotheses"
   ]
  },
  {
   "cell_type": "markdown",
   "id": "180b5b94",
   "metadata": {},
   "source": [
    "* Taking two categorical columns 'group' and 'converted'\n",
    "** $H_0:$ whether new feature(the new landing page) is more effective to gather new subscribers\n",
    "** $H_a:$ whether new feature(the new landing page) is not effective to gather new subscribers\n",
    "* We shall use a Proportions Z test for this problem.\n",
    "* The significance level given is α = 0.05."
   ]
  },
  {
   "cell_type": "code",
   "execution_count": 19,
   "id": "46d1da8c",
   "metadata": {},
   "outputs": [
    {
     "name": "stdout",
     "output_type": "stream",
     "text": [
      "The time_spent_by  control and treatment group are\n",
      "The time_spent_by  control and treatment group are\n"
     ]
    }
   ],
   "source": [
    "# number of female smokers\n",
    "Time_spent_by_control_group = df[df['group']=='control'].time_spent_on_the_page.value_counts()\n",
    "# number of male smokers\n",
    "Time_spent_by_treatment_group= df[df['group']=='treatment'].time_spent_on_the_page.value_counts()\n",
    "\n",
    "print('The time_spent_by  control and treatment group are'.format(Time_spent_by_control_group, Time_spent_by_treatment_group))\n",
    "\n",
    "# number of females in the data\n",
    "control = df.group.value_counts()['control']\n",
    "\n",
    "# number of males in the data\n",
    "treatment = df.group.value_counts()['treatment']\n",
    "\n",
    "print('The time_spent_by  control and treatment group are'.format(control, treatment))"
   ]
  },
  {
   "cell_type": "code",
   "execution_count": 20,
   "id": "83cdadd5",
   "metadata": {},
   "outputs": [
    {
     "data": {
      "text/plain": [
       "<AxesSubplot:xlabel='time_spent_on_the_page'>"
      ]
     },
     "execution_count": 20,
     "metadata": {},
     "output_type": "execute_result"
    },
    {
     "data": {
      "image/png": "[encoded data removed]",
      "text/plain": [
       "<Figure size 432x288 with 1 Axes>"
      ]
     },
     "metadata": {
      "needs_background": "light"
     },
     "output_type": "display_data"
    }
   ],
   "source": [
    "# Visual analysis of the distribution of 'time_spent_on_the_page' column\n",
    "sns.boxplot(x=\"time_spent_on_the_page\", data = df, showmeans= True)"
   ]
  },
  {
   "cell_type": "code",
   "execution_count": 21,
   "id": "f9fafa0f",
   "metadata": {},
   "outputs": [
    {
     "data": {
      "text/plain": [
       "5.377800000000002"
      ]
     },
     "execution_count": 21,
     "metadata": {},
     "output_type": "execute_result"
    }
   ],
   "source": [
    "df['time_spent_on_the_page'].mean()"
   ]
  },
  {
   "cell_type": "code",
   "execution_count": 22,
   "id": "c33cdc18",
   "metadata": {},
   "outputs": [
    {
     "data": {
      "text/plain": [
       "311.16"
      ]
     },
     "execution_count": 22,
     "metadata": {},
     "output_type": "execute_result"
    }
   ],
   "source": [
    "data1=df[df['group']=='treatment']\n",
    "data1['time_spent_on_the_page'].sum()"
   ]
  },
  {
   "cell_type": "code",
   "execution_count": 23,
   "id": "79c60f9a",
   "metadata": {},
   "outputs": [
    {
     "data": {
      "text/plain": [
       "226.62000000000003"
      ]
     },
     "execution_count": 23,
     "metadata": {},
     "output_type": "execute_result"
    }
   ],
   "source": [
    "data1=df[df['group']=='control']\n",
    "data1['time_spent_on_the_page'].sum()"
   ]
  },
  {
   "cell_type": "code",
   "execution_count": 24,
   "id": "3d1d106d",
   "metadata": {},
   "outputs": [
    {
     "data": {
      "text/plain": [
       "6.105"
      ]
     },
     "execution_count": 24,
     "metadata": {},
     "output_type": "execute_result"
    }
   ],
   "source": [
    "data2=df[df['group']=='treatment']\n",
    "data2['time_spent_on_the_page'].median()"
   ]
  },
  {
   "cell_type": "code",
   "execution_count": 25,
   "id": "1d62b0d8",
   "metadata": {},
   "outputs": [
    {
     "data": {
      "text/plain": [
       "50"
      ]
     },
     "execution_count": 25,
     "metadata": {},
     "output_type": "execute_result"
    }
   ],
   "source": [
    "#Compute the number of unique users who has new page using df2 dataframe\n",
    "data = df.query('landing_page == \"new\"')['user_id'].nunique()\n",
    "\n",
    "#display the number of unique users who has new page\n",
    "data"
   ]
  },
  {
   "cell_type": "markdown",
   "id": "a01d3759",
   "metadata": {},
   "source": [
    "## 3. Is the conversion rate (the proportion of users who visit the landing page and get converted) for the new page greater than the conversion rate for the old page?"
   ]
  },
  {
   "cell_type": "code",
   "execution_count": 26,
   "id": "6f4254c4",
   "metadata": {},
   "outputs": [
    {
     "name": "stdout",
     "output_type": "stream",
     "text": [
      "The numbers of not_converted1 and converted1 are 29 and 21 respectively\n",
      "The numbers of not_converted2 and converted2 are 17 and 33 respectively\n",
      "The total numbers of not_converted and converted are 50 and 50 respectively\n"
     ]
    }
   ],
   "source": [
    "# number of users converted from control group to the new landing page\n",
    "converted1 = df[df['group']=='control'].converted.value_counts()['yes']\n",
    "# number of users not_converted from control group to the new landing page\n",
    "not_converted1 = df[df['group']=='control'].converted.value_counts()['no']\n",
    "\n",
    "# number of users converted from treatment group to the old landing page\n",
    "converted2 = df[df['group']=='treatment'].converted.value_counts()['yes']\n",
    "# number of users not_converted from treatment group to the old landing page\n",
    "not_converted2 = df[df['group']=='treatment'].converted.value_counts()['no']\n",
    "\n",
    "print('The numbers of not_converted1 and converted1 are {0} and {1} respectively'.format(not_converted1, converted1))\n",
    "print('The numbers of not_converted2 and converted2 are {0} and {1} respectively'.format(not_converted2, converted2))\n",
    "\n",
    "# number of females in the data\n",
    "control = df.group.value_counts()['control']\n",
    "\n",
    "# number of males in the data\n",
    "treatment = df.group.value_counts()['treatment']\n",
    "\n",
    "print('The total numbers of not_converted and converted are {0} and {1} respectively'.format(control,treatment))"
   ]
  },
  {
   "cell_type": "code",
   "execution_count": 27,
   "id": "e15cfb4d",
   "metadata": {},
   "outputs": [
    {
     "name": "stdout",
     "output_type": "stream",
     "text": [
      "54\n",
      "46\n"
     ]
    }
   ],
   "source": [
    "a=converted1 + converted2\n",
    "b=not_converted1 + not_converted2\n",
    "print(a)\n",
    "print(b)"
   ]
  },
  {
   "cell_type": "code",
   "execution_count": 28,
   "id": "b9b7c847",
   "metadata": {},
   "outputs": [
    {
     "name": "stdout",
     "output_type": "stream",
     "text": [
      " The proportions of not_converted and converted are 1.08, 0.92 respectively\n"
     ]
    }
   ],
   "source": [
    "print(f' The proportions of not_converted and converted are {round(54/50,2)}, {round(46/50,2)} respectively')"
   ]
  },
  {
   "cell_type": "code",
   "execution_count": 29,
   "id": "11b19262",
   "metadata": {},
   "outputs": [
    {
     "ename": "ValueError",
     "evalue": "'abtest' is not one of the example datasets.",
     "output_type": "error",
     "traceback": [
      "\u001b[1;31m---------------------------------------------------------------------------\u001b[0m",
      "\u001b[1;31mValueError\u001b[0m                                Traceback (most recent call last)",
      "\u001b[1;32m<ipython-input-29-babd6eb7ff13>\u001b[0m in \u001b[0;36m<module>\u001b[1;34m\u001b[0m\n\u001b[0;32m      2\u001b[0m \u001b[1;32mimport\u001b[0m \u001b[0mseaborn\u001b[0m \u001b[1;32mas\u001b[0m \u001b[0msns\u001b[0m\u001b[1;33m\u001b[0m\u001b[1;33m\u001b[0m\u001b[0m\n\u001b[0;32m      3\u001b[0m \u001b[1;33m\u001b[0m\u001b[0m\n\u001b[1;32m----> 4\u001b[1;33m \u001b[0mdf\u001b[0m \u001b[1;33m=\u001b[0m \u001b[0msns\u001b[0m\u001b[1;33m.\u001b[0m\u001b[0mload_dataset\u001b[0m\u001b[1;33m(\u001b[0m\u001b[1;34m\"abtest\"\u001b[0m\u001b[1;33m)\u001b[0m\u001b[1;33m\u001b[0m\u001b[1;33m\u001b[0m\u001b[0m\n\u001b[0m\u001b[0;32m      5\u001b[0m \u001b[0mx\u001b[0m\u001b[1;33m,\u001b[0m \u001b[0my\u001b[0m\u001b[1;33m,\u001b[0m \u001b[0mhue\u001b[0m \u001b[1;33m=\u001b[0m \u001b[1;34m\"group\"\u001b[0m\u001b[1;33m,\u001b[0m \u001b[1;34m\"proportion\"\u001b[0m\u001b[1;33m,\u001b[0m \u001b[1;34m\"converted\"\u001b[0m\u001b[1;33m\u001b[0m\u001b[1;33m\u001b[0m\u001b[0m\n\u001b[0;32m      6\u001b[0m \u001b[0mhue_order\u001b[0m \u001b[1;33m=\u001b[0m \u001b[1;33m[\u001b[0m\u001b[1;34m\"yes\"\u001b[0m\u001b[1;33m,\u001b[0m \u001b[1;34m\"no\"\u001b[0m\u001b[1;33m]\u001b[0m\u001b[1;33m\u001b[0m\u001b[1;33m\u001b[0m\u001b[0m\n",
      "\u001b[1;32m~\\anaconda3\\lib\\site-packages\\seaborn\\utils.py\u001b[0m in \u001b[0;36mload_dataset\u001b[1;34m(name, cache, data_home, **kws)\u001b[0m\n\u001b[0;32m    484\u001b[0m         \u001b[1;32mif\u001b[0m \u001b[1;32mnot\u001b[0m \u001b[0mos\u001b[0m\u001b[1;33m.\u001b[0m\u001b[0mpath\u001b[0m\u001b[1;33m.\u001b[0m\u001b[0mexists\u001b[0m\u001b[1;33m(\u001b[0m\u001b[0mcache_path\u001b[0m\u001b[1;33m)\u001b[0m\u001b[1;33m:\u001b[0m\u001b[1;33m\u001b[0m\u001b[1;33m\u001b[0m\u001b[0m\n\u001b[0;32m    485\u001b[0m             \u001b[1;32mif\u001b[0m \u001b[0mname\u001b[0m \u001b[1;32mnot\u001b[0m \u001b[1;32min\u001b[0m \u001b[0mget_dataset_names\u001b[0m\u001b[1;33m(\u001b[0m\u001b[1;33m)\u001b[0m\u001b[1;33m:\u001b[0m\u001b[1;33m\u001b[0m\u001b[1;33m\u001b[0m\u001b[0m\n\u001b[1;32m--> 486\u001b[1;33m                 \u001b[1;32mraise\u001b[0m \u001b[0mValueError\u001b[0m\u001b[1;33m(\u001b[0m\u001b[1;34mf\"'{name}' is not one of the example datasets.\"\u001b[0m\u001b[1;33m)\u001b[0m\u001b[1;33m\u001b[0m\u001b[1;33m\u001b[0m\u001b[0m\n\u001b[0m\u001b[0;32m    487\u001b[0m             \u001b[0murlretrieve\u001b[0m\u001b[1;33m(\u001b[0m\u001b[0mfull_path\u001b[0m\u001b[1;33m,\u001b[0m \u001b[0mcache_path\u001b[0m\u001b[1;33m)\u001b[0m\u001b[1;33m\u001b[0m\u001b[1;33m\u001b[0m\u001b[0m\n\u001b[0;32m    488\u001b[0m         \u001b[0mfull_path\u001b[0m \u001b[1;33m=\u001b[0m \u001b[0mcache_path\u001b[0m\u001b[1;33m\u001b[0m\u001b[1;33m\u001b[0m\u001b[0m\n",
      "\u001b[1;31mValueError\u001b[0m: 'abtest' is not one of the example datasets."
     ]
    }
   ],
   "source": [
    "import pandas as pd\n",
    "import seaborn as sns\n",
    "\n",
    "df = sns.load_dataset(\"abtest\")\n",
    "x, y, hue = \"group\", \"proportion\", \"converted\"\n",
    "hue_order = [\"yes\", \"no\"]\n",
    "\n",
    "(df[x]\n",
    " .groupby(df[hue])\n",
    " .value_counts(normalize=True)\n",
    " .rename(y)\n",
    " .reset_index()\n",
    " .pipe((sns.barplot, \"df\"), x=x, y=y, hue=hue))"
   ]
  },
  {
   "cell_type": "code",
   "execution_count": null,
   "id": "4581dfe9",
   "metadata": {},
   "outputs": [],
   "source": [
    "# import the required function\n",
    "from statsmodels.stats.proportion import proportions_ztest\n",
    "\n",
    "stat, pval = proportions_ztest([converted, not_converted] , [control, treatment], alternative = 'two-sided')\n",
    "\n",
    "# print the p-value\n",
    "print('The p-value is '+ str(pval))"
   ]
  },
  {
   "cell_type": "code",
   "execution_count": null,
   "id": "6ff6f5c7",
   "metadata": {},
   "outputs": [],
   "source": [
    "converted_new = df[df['landing_page']=='new']['converted']\n",
    "converted_old = df[df['landing_page']=='old']['converted']\n",
    "a=converted_new[converted_new=='yes']\n",
    "len(a)"
   ]
  },
  {
   "cell_type": "code",
   "execution_count": null,
   "id": "4e8816b4",
   "metadata": {},
   "outputs": [],
   "source": [
    "b=converted_new[converted_new=='no']\n",
    "len(b)"
   ]
  },
  {
   "cell_type": "code",
   "execution_count": null,
   "id": "f8a9c5e2",
   "metadata": {},
   "outputs": [],
   "source": [
    "if (a>b):\n",
    "    print('')"
   ]
  },
  {
   "cell_type": "code",
   "execution_count": null,
   "id": "62cbed8f",
   "metadata": {},
   "outputs": [],
   "source": [
    "c=converted_old[converted_old=='yes']\n",
    "len(c)"
   ]
  },
  {
   "cell_type": "code",
   "execution_count": null,
   "id": "30bf9f88",
   "metadata": {},
   "outputs": [],
   "source": [
    "d=converted_old[converted_old=='no']\n",
    "len(d)"
   ]
  },
  {
   "cell_type": "code",
   "execution_count": null,
   "id": "7ced3622",
   "metadata": {},
   "outputs": [],
   "source": [
    "df['time_spent_on_the_page'].min()"
   ]
  },
  {
   "cell_type": "code",
   "execution_count": null,
   "id": "e4637fc6",
   "metadata": {},
   "outputs": [],
   "source": [
    "sns.displot(df[\"time_spent_on_the_page\"], kde=True)\n",
    "plt.show()"
   ]
  },
  {
   "cell_type": "code",
   "execution_count": null,
   "id": "22cc3e93",
   "metadata": {},
   "outputs": [],
   "source": [
    "pd.crosstab(df['group'], df['landing_page'])"
   ]
  },
  {
   "cell_type": "code",
   "execution_count": null,
   "id": "1b454245",
   "metadata": {},
   "outputs": [],
   "source": [
    "test_stat, p_value = stats.f_oneway(converted_new, converted_old)\n",
    "print('The p-value is ', p_value)"
   ]
  },
  {
   "cell_type": "markdown",
   "id": "8e69928a",
   "metadata": {},
   "source": [
    "## Does the converted status depend on the preferred language? [Hint: Create a contingency table using the pandas.crosstab() function]"
   ]
  },
  {
   "cell_type": "code",
   "execution_count": 30,
   "id": "087ad510",
   "metadata": {},
   "outputs": [
    {
     "data": {
      "text/html": [
       "<div>\n",
       "<style scoped>\n",
       "    .dataframe tbody tr th:only-of-type {\n",
       "        vertical-align: middle;\n",
       "    }\n",
       "\n",
       "    .dataframe tbody tr th {\n",
       "        vertical-align: top;\n",
       "    }\n",
       "\n",
       "    .dataframe thead th {\n",
       "        text-align: right;\n",
       "    }\n",
       "</style>\n",
       "<table border=\"1\" class=\"dataframe\">\n",
       "  <thead>\n",
       "    <tr style=\"text-align: right;\">\n",
       "      <th>language_preferred</th>\n",
       "      <th>English</th>\n",
       "      <th>French</th>\n",
       "      <th>Spanish</th>\n",
       "    </tr>\n",
       "    <tr>\n",
       "      <th>converted</th>\n",
       "      <th></th>\n",
       "      <th></th>\n",
       "      <th></th>\n",
       "    </tr>\n",
       "  </thead>\n",
       "  <tbody>\n",
       "    <tr>\n",
       "      <th>no</th>\n",
       "      <td>11</td>\n",
       "      <td>19</td>\n",
       "      <td>16</td>\n",
       "    </tr>\n",
       "    <tr>\n",
       "      <th>yes</th>\n",
       "      <td>21</td>\n",
       "      <td>15</td>\n",
       "      <td>18</td>\n",
       "    </tr>\n",
       "  </tbody>\n",
       "</table>\n",
       "</div>"
      ],
      "text/plain": [
       "language_preferred  English  French  Spanish\n",
       "converted                                   \n",
       "no                       11      19       16\n",
       "yes                      21      15       18"
      ]
     },
     "execution_count": 30,
     "metadata": {},
     "output_type": "execute_result"
    }
   ],
   "source": [
    "\n",
    "#df['converted'] = df['converted'].astype('integer')\n",
    "\n",
    "contingency_table = pd.crosstab(df.converted,df.language_preferred) #Contingency Table\n",
    "contingency_table"
   ]
  },
  {
   "cell_type": "code",
   "execution_count": 33,
   "id": "23fbdaa3",
   "metadata": {},
   "outputs": [
    {
     "ename": "NameError",
     "evalue": "name 'yes' is not defined",
     "output_type": "error",
     "traceback": [
      "\u001b[1;31m---------------------------------------------------------------------------\u001b[0m",
      "\u001b[1;31mNameError\u001b[0m                                 Traceback (most recent call last)",
      "\u001b[1;32m<ipython-input-33-c917d8b52d53>\u001b[0m in \u001b[0;36m<module>\u001b[1;34m\u001b[0m\n\u001b[0;32m      2\u001b[0m \u001b[1;31m#df.converted.replace(('yes', 'no'), (1, 0), inplace=True)\u001b[0m\u001b[1;33m\u001b[0m\u001b[1;33m\u001b[0m\u001b[1;33m\u001b[0m\u001b[0m\n\u001b[0;32m      3\u001b[0m \u001b[1;31m#sampleDF.housing.replace(('yes', 'no'), (1, 0), inplace=True)\u001b[0m\u001b[1;33m\u001b[0m\u001b[1;33m\u001b[0m\u001b[1;33m\u001b[0m\u001b[0m\n\u001b[1;32m----> 4\u001b[1;33m \u001b[0mdf\u001b[0m\u001b[1;33m[\u001b[0m\u001b[1;34m'converted_status'\u001b[0m\u001b[1;33m]\u001b[0m \u001b[1;33m=\u001b[0m \u001b[0mdf\u001b[0m\u001b[1;33m[\u001b[0m\u001b[1;34m'converted'\u001b[0m\u001b[1;33m]\u001b[0m\u001b[1;33m.\u001b[0m\u001b[0mmap\u001b[0m\u001b[1;33m(\u001b[0m\u001b[1;33m{\u001b[0m\u001b[0myes\u001b[0m\u001b[1;33m:\u001b[0m\u001b[1;34m'1'\u001b[0m\u001b[1;33m,\u001b[0m\u001b[0mno\u001b[0m\u001b[1;33m:\u001b[0m\u001b[1;34m'0'\u001b[0m\u001b[1;33m}\u001b[0m\u001b[1;33m)\u001b[0m \u001b[1;31m#Encode the values\u001b[0m\u001b[1;33m\u001b[0m\u001b[1;33m\u001b[0m\u001b[0m\n\u001b[0m",
      "\u001b[1;31mNameError\u001b[0m: name 'yes' is not defined"
     ]
    }
   ],
   "source": [
    "#df.converted[0:101]\n",
    "#df.converted.replace(('yes', 'no'), (1, 0), inplace=True)\n",
    "#sampleDF.housing.replace(('yes', 'no'), (1, 0), inplace=True) \n",
    "df['converted_status'] = df['converted'].map({1:'1',no:'0'}) #Encode the values"
   ]
  },
  {
   "cell_type": "code",
   "execution_count": 32,
   "id": "f016ca85",
   "metadata": {},
   "outputs": [
    {
     "data": {
      "text/html": [
       "<div>\n",
       "<style scoped>\n",
       "    .dataframe tbody tr th:only-of-type {\n",
       "        vertical-align: middle;\n",
       "    }\n",
       "\n",
       "    .dataframe tbody tr th {\n",
       "        vertical-align: top;\n",
       "    }\n",
       "\n",
       "    .dataframe thead th {\n",
       "        text-align: right;\n",
       "    }\n",
       "</style>\n",
       "<table border=\"1\" class=\"dataframe\">\n",
       "  <thead>\n",
       "    <tr style=\"text-align: right;\">\n",
       "      <th></th>\n",
       "      <th>user_id</th>\n",
       "      <th>group</th>\n",
       "      <th>landing_page</th>\n",
       "      <th>time_spent_on_the_page</th>\n",
       "      <th>converted</th>\n",
       "      <th>language_preferred</th>\n",
       "      <th>converted_status</th>\n",
       "    </tr>\n",
       "  </thead>\n",
       "  <tbody>\n",
       "    <tr>\n",
       "      <th>0</th>\n",
       "      <td>546592</td>\n",
       "      <td>control</td>\n",
       "      <td>old</td>\n",
       "      <td>3.48</td>\n",
       "      <td>no</td>\n",
       "      <td>Spanish</td>\n",
       "      <td>NaN</td>\n",
       "    </tr>\n",
       "    <tr>\n",
       "      <th>1</th>\n",
       "      <td>546468</td>\n",
       "      <td>treatment</td>\n",
       "      <td>new</td>\n",
       "      <td>7.13</td>\n",
       "      <td>yes</td>\n",
       "      <td>English</td>\n",
       "      <td>NaN</td>\n",
       "    </tr>\n",
       "    <tr>\n",
       "      <th>2</th>\n",
       "      <td>546462</td>\n",
       "      <td>treatment</td>\n",
       "      <td>new</td>\n",
       "      <td>4.40</td>\n",
       "      <td>no</td>\n",
       "      <td>Spanish</td>\n",
       "      <td>NaN</td>\n",
       "    </tr>\n",
       "    <tr>\n",
       "      <th>3</th>\n",
       "      <td>546567</td>\n",
       "      <td>control</td>\n",
       "      <td>old</td>\n",
       "      <td>3.02</td>\n",
       "      <td>no</td>\n",
       "      <td>French</td>\n",
       "      <td>NaN</td>\n",
       "    </tr>\n",
       "    <tr>\n",
       "      <th>4</th>\n",
       "      <td>546459</td>\n",
       "      <td>treatment</td>\n",
       "      <td>new</td>\n",
       "      <td>4.75</td>\n",
       "      <td>yes</td>\n",
       "      <td>Spanish</td>\n",
       "      <td>NaN</td>\n",
       "    </tr>\n",
       "    <tr>\n",
       "      <th>5</th>\n",
       "      <td>546558</td>\n",
       "      <td>control</td>\n",
       "      <td>old</td>\n",
       "      <td>5.28</td>\n",
       "      <td>yes</td>\n",
       "      <td>English</td>\n",
       "      <td>NaN</td>\n",
       "    </tr>\n",
       "    <tr>\n",
       "      <th>6</th>\n",
       "      <td>546448</td>\n",
       "      <td>treatment</td>\n",
       "      <td>new</td>\n",
       "      <td>5.25</td>\n",
       "      <td>yes</td>\n",
       "      <td>French</td>\n",
       "      <td>NaN</td>\n",
       "    </tr>\n",
       "    <tr>\n",
       "      <th>7</th>\n",
       "      <td>546581</td>\n",
       "      <td>control</td>\n",
       "      <td>old</td>\n",
       "      <td>6.53</td>\n",
       "      <td>yes</td>\n",
       "      <td>Spanish</td>\n",
       "      <td>NaN</td>\n",
       "    </tr>\n",
       "    <tr>\n",
       "      <th>8</th>\n",
       "      <td>546461</td>\n",
       "      <td>treatment</td>\n",
       "      <td>new</td>\n",
       "      <td>10.71</td>\n",
       "      <td>yes</td>\n",
       "      <td>French</td>\n",
       "      <td>NaN</td>\n",
       "    </tr>\n",
       "    <tr>\n",
       "      <th>9</th>\n",
       "      <td>546548</td>\n",
       "      <td>control</td>\n",
       "      <td>old</td>\n",
       "      <td>2.08</td>\n",
       "      <td>no</td>\n",
       "      <td>English</td>\n",
       "      <td>NaN</td>\n",
       "    </tr>\n",
       "  </tbody>\n",
       "</table>\n",
       "</div>"
      ],
      "text/plain": [
       "   user_id      group landing_page  time_spent_on_the_page converted  \\\n",
       "0   546592    control          old                    3.48        no   \n",
       "1   546468  treatment          new                    7.13       yes   \n",
       "2   546462  treatment          new                    4.40        no   \n",
       "3   546567    control          old                    3.02        no   \n",
       "4   546459  treatment          new                    4.75       yes   \n",
       "5   546558    control          old                    5.28       yes   \n",
       "6   546448  treatment          new                    5.25       yes   \n",
       "7   546581    control          old                    6.53       yes   \n",
       "8   546461  treatment          new                   10.71       yes   \n",
       "9   546548    control          old                    2.08        no   \n",
       "\n",
       "  language_preferred converted_status  \n",
       "0            Spanish              NaN  \n",
       "1            English              NaN  \n",
       "2            Spanish              NaN  \n",
       "3             French              NaN  \n",
       "4            Spanish              NaN  \n",
       "5            English              NaN  \n",
       "6             French              NaN  \n",
       "7            Spanish              NaN  \n",
       "8             French              NaN  \n",
       "9            English              NaN  "
      ]
     },
     "execution_count": 32,
     "metadata": {},
     "output_type": "execute_result"
    }
   ],
   "source": [
    "df.head(10)"
   ]
  },
  {
   "cell_type": "code",
   "execution_count": 36,
   "id": "23cfb9d0",
   "metadata": {},
   "outputs": [],
   "source": [
    "df['converted_status'] = df['converted'].map({\"yes\":'1',\"no\":'0'}) #Encode the values"
   ]
  },
  {
   "cell_type": "code",
   "execution_count": null,
   "id": "3fdebf56",
   "metadata": {},
   "outputs": [],
   "source": []
  }
 ],
 "metadata": {
  "kernelspec": {
   "display_name": "Python 3",
   "language": "python",
   "name": "python3"
  },
  "language_info": {
   "codemirror_mode": {
    "name": "ipython",
    "version": 3
   },
   "file_extension": ".py",
   "mimetype": "text/x-python",
   "name": "python",
   "nbconvert_exporter": "python",
   "pygments_lexer": "ipython3",
   "version": "3.8.10"
  }
 },
 "nbformat": 4,
 "nbformat_minor": 5
}
